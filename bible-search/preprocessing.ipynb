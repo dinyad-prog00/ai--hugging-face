{
 "cells": [
  {
   "cell_type": "code",
   "execution_count": 1,
   "metadata": {},
   "outputs": [],
   "source": [
    "import json"
   ]
  },
  {
   "cell_type": "code",
   "execution_count": 2,
   "metadata": {},
   "outputs": [],
   "source": [
    "with open(\"./data/bible.fr.json\") as file:\n",
    "    bible = json.load(file)"
   ]
  },
  {
   "cell_type": "code",
   "execution_count": 10,
   "metadata": {},
   "outputs": [
    {
     "name": "stdout",
     "output_type": "stream",
     "text": [
      "Ancien Testament\n",
      "Genèse\n",
      "Exode\n",
      "Lévitique\n",
      "Nombres\n",
      "Deutéronome\n",
      "Josué\n",
      "Juges\n",
      "Ruth\n",
      "1 Samuel\n",
      "2 Samuel\n",
      "1 Rois\n",
      "2 Rois\n",
      "1 Chroniques\n",
      "2 Chroniques\n",
      "Esdras\n",
      "Néhémie\n",
      "Esther\n",
      "Job\n",
      "Psaumes\n",
      "Proverbes\n",
      "Ecclésiaste\n",
      "Cantique des Cantiques\n",
      "Ésaïe\n",
      "Jérémie\n",
      "Lamentations de Jérémie\n",
      "Ézéchiel\n",
      "Daniel\n",
      "Osée\n",
      "Joël\n",
      "Amos\n",
      "Abdias\n",
      "Jonas\n",
      "Michée\n",
      "Nahum\n",
      "Habacuc\n",
      "Sophonie\n",
      "Aggée\n",
      "Zacharie\n",
      "Malachie\n",
      "Nouveau Testament\n",
      "Matthieu\n",
      "Marc\n",
      "Luc\n",
      "Jean\n",
      "Actes des Apôtres\n",
      "Romains\n",
      "1 Corinthiens\n",
      "2 Corinthiens\n",
      "Galates\n",
      "Éphésiens\n",
      "Philippiens\n",
      "Colossiens\n",
      "1 Thessaloniciens\n",
      "2 Thessaloniciens\n",
      "1 Timothée\n",
      "2 Timothée\n",
      "Tite\n",
      "Philémon\n",
      "Hébreux\n",
      "Jacques\n",
      "1 Pierre\n",
      "2 Pierre\n",
      "1 Jean\n",
      "2 Jean\n",
      "3 Jean\n",
      "Jude\n",
      "Apocalypse\n"
     ]
    }
   ],
   "source": [
    "bible_todump = []\n",
    "with open(\"./data/bible_data_v2.fr.json\", 'w') as file:\n",
    "    for testament in bible[\"Testaments\"]:\n",
    "        print(testament[\"Text\"])\n",
    "        for book in testament[\"Books\"]:\n",
    "            print(book[\"Text\"])\n",
    "            for chapter in book[\"Chapters\"]:\n",
    "                for verse in chapter[\"Verses\"]:\n",
    "                    verseObject = {\n",
    "                        \"testament\": testament[\"Text\"],\n",
    "                        \"book\": book[\"Text\"],\n",
    "                        \"chapter\": chapter.get(\"ID\", 1),\n",
    "                        \"verse\": verse.get(\"ID\", 1),\n",
    "                        \"text\": f\"\"\"[TITLE]{book.get(\"Text\")} {chapter.get(\"ID\", 1)}:{verse.get(\"ID\", 1)}[TITLE] {verse[\"Text\"]}\"\"\"\n",
    "                    }\n",
    "\n",
    "                    bible_todump.append(verseObject)\n",
    "\n",
    "    json.dump(bible_todump, file, indent=4,ensure_ascii=False)"
   ]
  }
 ],
 "metadata": {
  "kernelspec": {
   "display_name": "tf-gpu",
   "language": "python",
   "name": "python3"
  },
  "language_info": {
   "codemirror_mode": {
    "name": "ipython",
    "version": 3
   },
   "file_extension": ".py",
   "mimetype": "text/x-python",
   "name": "python",
   "nbconvert_exporter": "python",
   "pygments_lexer": "ipython3",
   "version": "3.8.19"
  }
 },
 "nbformat": 4,
 "nbformat_minor": 2
}
