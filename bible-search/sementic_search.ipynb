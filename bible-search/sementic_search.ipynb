{
 "cells": [
  {
   "cell_type": "code",
   "execution_count": 3,
   "metadata": {},
   "outputs": [],
   "source": [
    "import requests\n",
    "from langchain.text_splitter import RecursiveCharacterTextSplitter\n",
    "from langchain.embeddings import HuggingFaceEmbeddings\n",
    "from langchain.vectorstores import  Chroma\n",
    "from langchain.document_loaders import JSONLoader\n",
    "import chromadb"
   ]
  },
  {
   "cell_type": "code",
   "execution_count": 4,
   "metadata": {},
   "outputs": [
    {
     "name": "stderr",
     "output_type": "stream",
     "text": [
      "/home/20015587/anaconda3/envs/tf-gpu/lib/python3.8/site-packages/langchain_core/_api/deprecation.py:119: LangChainDeprecationWarning: The class `HuggingFaceEmbeddings` was deprecated in LangChain 0.2.2 and will be removed in 0.3.0. An updated version of the class exists in the langchain-huggingface package and should be used instead. To use it run `pip install -U langchain-huggingface` and import as `from langchain_huggingface import HuggingFaceEmbeddings`.\n",
      "  warn_deprecated(\n",
      "/home/20015587/anaconda3/envs/tf-gpu/lib/python3.8/site-packages/sentence_transformers/cross_encoder/CrossEncoder.py:11: TqdmExperimentalWarning: Using `tqdm.autonotebook.tqdm` in notebook mode. Use `tqdm.tqdm` instead to force console mode (e.g. in jupyter console)\n",
      "  from tqdm.autonotebook import tqdm, trange\n",
      "2024-06-29 01:16:25.379207: I tensorflow/core/util/port.cc:110] oneDNN custom operations are on. You may see slightly different numerical results due to floating-point round-off errors from different computation orders. To turn them off, set the environment variable `TF_ENABLE_ONEDNN_OPTS=0`.\n",
      "2024-06-29 01:16:25.408283: I tensorflow/core/platform/cpu_feature_guard.cc:182] This TensorFlow binary is optimized to use available CPU instructions in performance-critical operations.\n",
      "To enable the following instructions: AVX2 AVX_VNNI FMA, in other operations, rebuild TensorFlow with the appropriate compiler flags.\n",
      "2024-06-29 01:16:25.889313: W tensorflow/compiler/tf2tensorrt/utils/py_utils.cc:38] TF-TRT Warning: Could not find TensorRT\n",
      "/home/20015587/anaconda3/envs/tf-gpu/lib/python3.8/site-packages/huggingface_hub/file_download.py:1132: FutureWarning: `resume_download` is deprecated and will be removed in version 1.0.0. Downloads always resume when possible. If you want to force a new download, use `force_download=True`.\n",
      "  warnings.warn(\n"
     ]
    }
   ],
   "source": [
    "\n",
    "model = HuggingFaceEmbeddings(model_name='sentence-transformers/all-MiniLM-L6-v2')\n"
   ]
  },
  {
   "cell_type": "code",
   "execution_count": 18,
   "metadata": {},
   "outputs": [],
   "source": [
    "def metadata_func(record: dict, metadata: dict) -> dict:\n",
    "\n",
    "    metadata[\"testament\"] = record.get(\"testament\")\n",
    "    metadata[\"book\"] = record.get(\"book\")\n",
    "    metadata[\"chapter\"] = record.get(\"chapter\")\n",
    "    metadata[\"verse\"] = record.get(\"verse\")\n",
    "    metadata[\"title\"] = f\"\"\"{record.get(\"book\")} {record.get(\"chapter\")}:{record.get(\"verse\")}\"\"\"\n",
    "    return metadata"
   ]
  },
  {
   "cell_type": "code",
   "execution_count": 21,
   "metadata": {},
   "outputs": [],
   "source": [
    "dir_path=\"./data/bible_data_v2.fr.json\"\n",
    "chroma_instance = chromadb.Client()\n",
    "doc_loader = JSONLoader(dir_path,\".[]\",content_key=\"text\", metadata_func=metadata_func)\n",
    "docs = doc_loader.load()"
   ]
  },
  {
   "cell_type": "code",
   "execution_count": 22,
   "metadata": {},
   "outputs": [
    {
     "data": {
      "text/plain": [
       "Document(page_content='[TITLE]Genèse 1:1[TITLE] Au commencement, Dieu créa les cieux et la terre.', metadata={'source': '/home/20015587/Documents/IA/bible-search/data/bible_data_v2.fr.json', 'seq_num': 1, 'testament': 'Ancien Testament', 'book': 'Genèse', 'chapter': 1, 'verse': 1, 'title': 'Genèse 1:1'})"
      ]
     },
     "execution_count": 22,
     "metadata": {},
     "output_type": "execute_result"
    }
   ],
   "source": [
    "docs[0]"
   ]
  },
  {
   "cell_type": "code",
   "execution_count": 23,
   "metadata": {},
   "outputs": [],
   "source": [
    "#db = Chroma.from_documents(documents=docs, embedding=model, persist_directory=\"./db/bible_v2.db\")\n",
    "db = Chroma(embedding_function=model, persist_directory=\"./db/bible_v2.db\")\n"
   ]
  },
  {
   "cell_type": "code",
   "execution_count": 31,
   "metadata": {},
   "outputs": [
    {
     "data": {
      "text/plain": [
       "[Document(page_content='[TITLE]Marc 3:19[TITLE] et Judas Iscariot, celui qui livra Jésus. Ils se rendirent à la maison,', metadata={'book': 'Marc', 'chapter': 3, 'seq_num': 24308, 'source': '/home/20015587/Documents/IA/bible-search/data/bible_data_v2.fr.json', 'testament': 'Nouveau Testament', 'title': 'Marc 3:19', 'verse': 19}),\n",
       " Document(page_content=\"[TITLE]Jean 18:3[TITLE] Judas donc, ayant pris la cohorte, et des huissiers qu'envoyèrent les principaux sacrificateurs et les pharisiens, vint là avec des lanternes, des flambeaux et des armes.\", metadata={'book': 'Jean', 'chapter': 18, 'seq_num': 26789, 'source': '/home/20015587/Documents/IA/bible-search/data/bible_data_v2.fr.json', 'testament': 'Nouveau Testament', 'title': 'Jean 18:3', 'verse': 3})]"
      ]
     },
     "execution_count": 31,
     "metadata": {},
     "output_type": "execute_result"
    }
   ],
   "source": [
    "query=\"Judas a trahi je\"\n",
    "retrieved_docs = db.similarity_search(query,k=2)\n",
    "retrieved_docs"
   ]
  },
  {
   "cell_type": "code",
   "execution_count": 32,
   "metadata": {},
   "outputs": [],
   "source": [
    "from flask import Flask, request, jsonify, render_template\n",
    "\n",
    "app = Flask(__name__)\n",
    "\n",
    "@app.route('/')\n",
    "def index():\n",
    "    return render_template('index.html')\n",
    "\n",
    "@app.route('/search')\n",
    "def search():\n",
    "    query = request.args.get('q', '')\n",
    "    if not query:\n",
    "        return jsonify([])\n",
    "\n",
    "    # Perform search in Elasticsearch\n",
    "    response =db.similarity_search(query,k=3)\n",
    "    response_json = \n",
    "   \n",
    "    return jsonify(response)\n",
    "\n",
    "def run_app():\n",
    "    app.run(host='0.0.0.0', port=5000)\n",
    "\n"
   ]
  },
  {
   "cell_type": "code",
   "execution_count": null,
   "metadata": {},
   "outputs": [
    {
     "name": "stdout",
     "output_type": "stream",
     "text": [
      " * Serving Flask app '__main__'\n",
      " * Debug mode: off\n"
     ]
    },
    {
     "name": "stderr",
     "output_type": "stream",
     "text": [
      "\u001b[31m\u001b[1mWARNING: This is a development server. Do not use it in a production deployment. Use a production WSGI server instead.\u001b[0m\n",
      " * Running on all addresses (0.0.0.0)\n",
      " * Running on http://127.0.0.1:5000\n",
      " * Running on http://192.168.1.44:5000\n",
      "\u001b[33mPress CTRL+C to quit\u001b[0m\n"
     ]
    },
    {
     "name": "stderr",
     "output_type": "stream",
     "text": [
      "127.0.0.1 - - [29/Jun/2024 01:36:43] \"GET / HTTP/1.1\" 200 -\n",
      "127.0.0.1 - - [29/Jun/2024 01:36:43] \"\u001b[33mGET /favicon.ico HTTP/1.1\u001b[0m\" 404 -\n",
      "[2024-06-29 01:37:00,522] ERROR in app: Exception on /search [GET]\n",
      "Traceback (most recent call last):\n",
      "  File \"/home/20015587/anaconda3/envs/tf-gpu/lib/python3.8/site-packages/flask/app.py\", line 1473, in wsgi_app\n",
      "    response = self.full_dispatch_request()\n",
      "  File \"/home/20015587/anaconda3/envs/tf-gpu/lib/python3.8/site-packages/flask/app.py\", line 882, in full_dispatch_request\n",
      "    rv = self.handle_user_exception(e)\n",
      "  File \"/home/20015587/anaconda3/envs/tf-gpu/lib/python3.8/site-packages/flask/app.py\", line 880, in full_dispatch_request\n",
      "    rv = self.dispatch_request()\n",
      "  File \"/home/20015587/anaconda3/envs/tf-gpu/lib/python3.8/site-packages/flask/app.py\", line 865, in dispatch_request\n",
      "    return self.ensure_sync(self.view_functions[rule.endpoint])(**view_args)  # type: ignore[no-any-return]\n",
      "  File \"/tmp/ipykernel_2903094/4285742351.py\", line 18, in search\n",
      "    return jsonify(response)\n",
      "  File \"/home/20015587/anaconda3/envs/tf-gpu/lib/python3.8/site-packages/flask/json/__init__.py\", line 170, in jsonify\n",
      "    return current_app.json.response(*args, **kwargs)  # type: ignore[return-value]\n",
      "  File \"/home/20015587/anaconda3/envs/tf-gpu/lib/python3.8/site-packages/flask/json/provider.py\", line 214, in response\n",
      "    f\"{self.dumps(obj, **dump_args)}\\n\", mimetype=self.mimetype\n",
      "  File \"/home/20015587/anaconda3/envs/tf-gpu/lib/python3.8/site-packages/flask/json/provider.py\", line 179, in dumps\n",
      "    return json.dumps(obj, **kwargs)\n",
      "  File \"/home/20015587/anaconda3/envs/tf-gpu/lib/python3.8/json/__init__.py\", line 234, in dumps\n",
      "    return cls(\n",
      "  File \"/home/20015587/anaconda3/envs/tf-gpu/lib/python3.8/json/encoder.py\", line 199, in encode\n",
      "    chunks = self.iterencode(o, _one_shot=True)\n",
      "  File \"/home/20015587/anaconda3/envs/tf-gpu/lib/python3.8/json/encoder.py\", line 257, in iterencode\n",
      "    return _iterencode(o, 0)\n",
      "  File \"/home/20015587/anaconda3/envs/tf-gpu/lib/python3.8/site-packages/flask/json/provider.py\", line 121, in _default\n",
      "    raise TypeError(f\"Object of type {type(o).__name__} is not JSON serializable\")\n",
      "TypeError: Object of type Document is not JSON serializable\n",
      "127.0.0.1 - - [29/Jun/2024 01:37:00] \"\u001b[35m\u001b[1mGET /search?q=aime%20ton%20prochain%20comme%20toit%20meme HTTP/1.1\u001b[0m\" 500 -\n",
      "[2024-06-29 01:52:37,437] ERROR in app: Exception on /search [GET]\n",
      "Traceback (most recent call last):\n",
      "  File \"/home/20015587/anaconda3/envs/tf-gpu/lib/python3.8/site-packages/flask/app.py\", line 1473, in wsgi_app\n",
      "    response = self.full_dispatch_request()\n",
      "  File \"/home/20015587/anaconda3/envs/tf-gpu/lib/python3.8/site-packages/flask/app.py\", line 882, in full_dispatch_request\n",
      "    rv = self.handle_user_exception(e)\n",
      "  File \"/home/20015587/anaconda3/envs/tf-gpu/lib/python3.8/site-packages/flask/app.py\", line 880, in full_dispatch_request\n",
      "    rv = self.dispatch_request()\n",
      "  File \"/home/20015587/anaconda3/envs/tf-gpu/lib/python3.8/site-packages/flask/app.py\", line 865, in dispatch_request\n",
      "    return self.ensure_sync(self.view_functions[rule.endpoint])(**view_args)  # type: ignore[no-any-return]\n",
      "  File \"/tmp/ipykernel_2903094/4285742351.py\", line 18, in search\n",
      "    return jsonify(response)\n",
      "  File \"/home/20015587/anaconda3/envs/tf-gpu/lib/python3.8/site-packages/flask/json/__init__.py\", line 170, in jsonify\n",
      "    return current_app.json.response(*args, **kwargs)  # type: ignore[return-value]\n",
      "  File \"/home/20015587/anaconda3/envs/tf-gpu/lib/python3.8/site-packages/flask/json/provider.py\", line 214, in response\n",
      "    f\"{self.dumps(obj, **dump_args)}\\n\", mimetype=self.mimetype\n",
      "  File \"/home/20015587/anaconda3/envs/tf-gpu/lib/python3.8/site-packages/flask/json/provider.py\", line 179, in dumps\n",
      "    return json.dumps(obj, **kwargs)\n",
      "  File \"/home/20015587/anaconda3/envs/tf-gpu/lib/python3.8/json/__init__.py\", line 234, in dumps\n",
      "    return cls(\n",
      "  File \"/home/20015587/anaconda3/envs/tf-gpu/lib/python3.8/json/encoder.py\", line 199, in encode\n",
      "    chunks = self.iterencode(o, _one_shot=True)\n",
      "  File \"/home/20015587/anaconda3/envs/tf-gpu/lib/python3.8/json/encoder.py\", line 257, in iterencode\n",
      "    return _iterencode(o, 0)\n",
      "  File \"/home/20015587/anaconda3/envs/tf-gpu/lib/python3.8/site-packages/flask/json/provider.py\", line 121, in _default\n",
      "    raise TypeError(f\"Object of type {type(o).__name__} is not JSON serializable\")\n",
      "TypeError: Object of type Document is not JSON serializable\n",
      "127.0.0.1 - - [29/Jun/2024 01:52:37] \"\u001b[35m\u001b[1mGET /search?q=aime%20ton%20prochain%20comme%20toit%20meme HTTP/1.1\u001b[0m\" 500 -\n",
      "[2024-06-29 01:52:46,257] ERROR in app: Exception on /search [GET]\n",
      "Traceback (most recent call last):\n",
      "  File \"/home/20015587/anaconda3/envs/tf-gpu/lib/python3.8/site-packages/flask/app.py\", line 1473, in wsgi_app\n",
      "    response = self.full_dispatch_request()\n",
      "  File \"/home/20015587/anaconda3/envs/tf-gpu/lib/python3.8/site-packages/flask/app.py\", line 882, in full_dispatch_request\n",
      "    rv = self.handle_user_exception(e)\n",
      "  File \"/home/20015587/anaconda3/envs/tf-gpu/lib/python3.8/site-packages/flask/app.py\", line 880, in full_dispatch_request\n",
      "    rv = self.dispatch_request()\n",
      "  File \"/home/20015587/anaconda3/envs/tf-gpu/lib/python3.8/site-packages/flask/app.py\", line 865, in dispatch_request\n",
      "    return self.ensure_sync(self.view_functions[rule.endpoint])(**view_args)  # type: ignore[no-any-return]\n",
      "  File \"/tmp/ipykernel_2903094/4285742351.py\", line 18, in search\n",
      "    return jsonify(response)\n",
      "  File \"/home/20015587/anaconda3/envs/tf-gpu/lib/python3.8/site-packages/flask/json/__init__.py\", line 170, in jsonify\n",
      "    return current_app.json.response(*args, **kwargs)  # type: ignore[return-value]\n",
      "  File \"/home/20015587/anaconda3/envs/tf-gpu/lib/python3.8/site-packages/flask/json/provider.py\", line 214, in response\n",
      "    f\"{self.dumps(obj, **dump_args)}\\n\", mimetype=self.mimetype\n",
      "  File \"/home/20015587/anaconda3/envs/tf-gpu/lib/python3.8/site-packages/flask/json/provider.py\", line 179, in dumps\n",
      "    return json.dumps(obj, **kwargs)\n",
      "  File \"/home/20015587/anaconda3/envs/tf-gpu/lib/python3.8/json/__init__.py\", line 234, in dumps\n",
      "    return cls(\n",
      "  File \"/home/20015587/anaconda3/envs/tf-gpu/lib/python3.8/json/encoder.py\", line 199, in encode\n",
      "    chunks = self.iterencode(o, _one_shot=True)\n",
      "  File \"/home/20015587/anaconda3/envs/tf-gpu/lib/python3.8/json/encoder.py\", line 257, in iterencode\n",
      "    return _iterencode(o, 0)\n",
      "  File \"/home/20015587/anaconda3/envs/tf-gpu/lib/python3.8/site-packages/flask/json/provider.py\", line 121, in _default\n",
      "    raise TypeError(f\"Object of type {type(o).__name__} is not JSON serializable\")\n",
      "TypeError: Object of type Document is not JSON serializable\n",
      "127.0.0.1 - - [29/Jun/2024 01:52:46] \"\u001b[35m\u001b[1mGET /search?q=aime%20ton%20prochain%20comme%20toit%20meme HTTP/1.1\u001b[0m\" 500 -\n"
     ]
    },
    {
     "ename": "",
     "evalue": "",
     "output_type": "error",
     "traceback": [
      "\u001b[1;31mThe Kernel crashed while executing code in the current cell or a previous cell. \n",
      "\u001b[1;31mPlease review the code in the cell(s) to identify a possible cause of the failure. \n",
      "\u001b[1;31mClick <a href='https://aka.ms/vscodeJupyterKernelCrash'>here</a> for more info. \n",
      "\u001b[1;31mView Jupyter <a href='command:jupyter.viewOutput'>log</a> for further details."
     ]
    }
   ],
   "source": [
    "from threading import Thread\n",
    "flask_thread = Thread(target=run_app)\n",
    "flask_thread.start()"
   ]
  }
 ],
 "metadata": {
  "kernelspec": {
   "display_name": "tf-gpu",
   "language": "python",
   "name": "python3"
  },
  "language_info": {
   "codemirror_mode": {
    "name": "ipython",
    "version": 3
   },
   "file_extension": ".py",
   "mimetype": "text/x-python",
   "name": "python",
   "nbconvert_exporter": "python",
   "pygments_lexer": "ipython3",
   "version": "3.8.19"
  }
 },
 "nbformat": 4,
 "nbformat_minor": 2
}
