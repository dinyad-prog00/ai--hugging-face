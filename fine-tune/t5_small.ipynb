{
 "cells": [
  {
   "cell_type": "code",
   "execution_count": 3,
   "metadata": {},
   "outputs": [],
   "source": [
    "from langchain_huggingface import HuggingFacePipeline\n"
   ]
  },
  {
   "cell_type": "code",
   "execution_count": 37,
   "metadata": {},
   "outputs": [],
   "source": [
    "model_id=\"google-t5/t5-small\""
   ]
  },
  {
   "cell_type": "code",
   "execution_count": 42,
   "metadata": {},
   "outputs": [],
   "source": [
    "\n",
    "llm = HuggingFacePipeline.from_model_id(\n",
    "    model_id=model_id,\n",
    "    task=\"text2text-generation\",\n",
    "    device_map=\"auto\",\n",
    "    pipeline_kwargs={\n",
    "        \"max_new_tokens\": 100,\n",
    "        \"top_k\": 50,\n",
    "        #\"temperature\": 0.1,\n",
    "    },\n",
    ")\n"
   ]
  },
  {
   "cell_type": "code",
   "execution_count": 52,
   "metadata": {},
   "outputs": [
    {
     "data": {
      "text/plain": [
       "\"Voici un exemple d'un verset de la bible genèse 1:1 :\""
      ]
     },
     "execution_count": 52,
     "metadata": {},
     "output_type": "execute_result"
    }
   ],
   "source": [
    "text = \"\"\"\n",
    "We define access to a Streamlit app in a browser tab as a session.\n",
    "For each browser tab that connects to the Streamlit server, a new session is created.\n",
    "Streamlit reruns your script from top to bottom every time you interact with your app.\n",
    "Each reruns takes place in a blank slate: no variables are shared between runs.\n",
    "Session State is a way to share variables between reruns, for each user session.\n",
    "In addition to the ability to store and persist state, Streamlit also exposes the\n",
    "ability to manipulate state using Callbacks. In this guide, we will illustrate the\n",
    "usage of Session State and Callbacks as we build a stateful Counter app.\n",
    "For details on the Session State and Callbacks API, please refer to our Session\n",
    "State API Reference Guide. Also, check out this Session State basics tutorial\n",
    "video by Streamlit Developer Advocate Dr. Marisa Smith to get started:\n",
    "\"\"\"\n",
    "\n",
    "inputs = [\"translate English to French: \" + text]\n",
    "\n",
    "llm.invoke(\"donne un exemple d'un verset de la bible genèse 1:1 :\")"
   ]
  }
 ],
 "metadata": {
  "kernelspec": {
   "display_name": "tf-gpu",
   "language": "python",
   "name": "python3"
  },
  "language_info": {
   "codemirror_mode": {
    "name": "ipython",
    "version": 3
   },
   "file_extension": ".py",
   "mimetype": "text/x-python",
   "name": "python",
   "nbconvert_exporter": "python",
   "pygments_lexer": "ipython3",
   "version": "3.8.19"
  }
 },
 "nbformat": 4,
 "nbformat_minor": 2
}
