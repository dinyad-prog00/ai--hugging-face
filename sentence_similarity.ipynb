{
    "cells": [
        {
            "cell_type": "code",
            "execution_count": 2,
            "metadata": {},
            "outputs": [
                {
                    "name": "stderr",
                    "output_type": "stream",
                    "text": [
                        "/home/20015587/anaconda3/envs/tf-gpu/lib/python3.8/site-packages/sentence_transformers/cross_encoder/CrossEncoder.py:11: TqdmExperimentalWarning: Using `tqdm.autonotebook.tqdm` in notebook mode. Use `tqdm.tqdm` instead to force console mode (e.g. in jupyter console)\n",
                        "  from tqdm.autonotebook import tqdm, trange\n",
                        "2024-06-17 13:53:08.702422: I tensorflow/core/util/port.cc:110] oneDNN custom operations are on. You may see slightly different numerical results due to floating-point round-off errors from different computation orders. To turn them off, set the environment variable `TF_ENABLE_ONEDNN_OPTS=0`.\n",
                        "2024-06-17 13:53:09.050728: I tensorflow/core/platform/cpu_feature_guard.cc:182] This TensorFlow binary is optimized to use available CPU instructions in performance-critical operations.\n",
                        "To enable the following instructions: AVX2 AVX_VNNI FMA, in other operations, rebuild TensorFlow with the appropriate compiler flags.\n",
                        "2024-06-17 13:53:09.884571: W tensorflow/compiler/tf2tensorrt/utils/py_utils.cc:38] TF-TRT Warning: Could not find TensorRT\n"
                    ]
                }
            ],
            "source": [
                "\n",
                "import numpy as np\n",
                "from sentence_transformers import SentenceTransformer\n",
                "\n"
            ]
        },
        {
            "cell_type": "code",
            "execution_count": 3,
            "metadata": {},
            "outputs": [
                {
                    "name": "stderr",
                    "output_type": "stream",
                    "text": [
                        "/home/20015587/anaconda3/envs/tf-gpu/lib/python3.8/site-packages/huggingface_hub/file_download.py:1132: FutureWarning: `resume_download` is deprecated and will be removed in version 1.0.0. Downloads always resume when possible. If you want to force a new download, use `force_download=True`.\n",
                        "  warnings.warn(\n"
                    ]
                }
            ],
            "source": [
                "\n",
                "model = SentenceTransformer('sentence-transformers/all-MiniLM-L6-v2')\n"
            ]
        },
        {
            "cell_type": "code",
            "execution_count": 11,
            "metadata": {},
            "outputs": [
                {
                    "name": "stdout",
                    "output_type": "stream",
                    "text": [
                        "0.36248818\n",
                        "1.1067175\n",
                        "1.1203719\n",
                        "0.4970796\n",
                        "1.1418194\n",
                        "1.1761057\n"
                    ]
                }
            ],
            "source": [
                "sentences = [\"Quel est le bu avec le plus de clients ?\",\n",
                "             \"Quel est le nombre de clients par bu\",\n",
                "             \"Combien de login failed pour le bu lmfr?\",\n",
                "             \"Combien de login failed par bu?\",\n",
                "             \"Combien de clients par bu ?\",\n",
                "             \"Ces deux perspectives, bien que différentes en apparence, révèlent en réalité des aspects extrêmement similaires de la même réalité.\",\n",
                "             \"Les deux côtés de cette situation sont tellement semblables qu'il est difficile de les distinguer l'un de l'autre, malgré leurs différences superficielles.\"]\n",
                "\n",
                "embeddings = model.encode(sentences)\n",
                "values = np.array(embeddings)\n",
                "\n",
                "couples=[\n",
                "    (0,1),\n",
                "    (0,2),\n",
                "    (0,3),\n",
                "    (1,4),\n",
                "    (5,6),\n",
                "    (0,6)\n",
                "]\n",
                "\n",
                "for c in couples:\n",
                "    d = np.sum((values[c[0]]-values[c[1]])**2)\n",
                "    print(d)\n",
                "\n"
            ]
        },
        {
            "cell_type": "code",
            "execution_count": null,
            "metadata": {},
            "outputs": [],
            "source": []
        }
    ],
    "metadata": {
        "kernelspec": {
            "display_name": "tf-gpu",
            "language": "python",
            "name": "python3"
        },
        "language_info": {
            "codemirror_mode": {
                "name": "ipython",
                "version": 3
            },
            "file_extension": ".py",
            "mimetype": "text/x-python",
            "name": "python",
            "nbconvert_exporter": "python",
            "pygments_lexer": "ipython3",
            "version": "3.8.-1"
        }
    },
    "nbformat": 4,
    "nbformat_minor": 2
}
